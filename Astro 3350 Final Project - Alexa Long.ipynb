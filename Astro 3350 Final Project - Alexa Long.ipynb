{
 "cells": [
  {
   "cell_type": "markdown",
   "metadata": {},
   "source": [
    "## Project Statement #1: Timing variations in eclipsing binaries"
   ]
  },
  {
   "cell_type": "code",
   "execution_count": null,
   "metadata": {},
   "outputs": [],
   "source": [
    "# Basic packages\n",
    "import math\n",
    "\n",
    "from math import sqrt\n",
    "\n",
    "# Numerical python\n",
    "import numpy as np\n",
    "\n",
    "# Plotting\n",
    "import matplotlib.pyplot as plt\n",
    "\n",
    "# Package to read data files addressable with a URL.\n",
    "import urllib.request"
   ]
  },
  {
   "cell_type": "code",
   "execution_count": 2,
   "metadata": {},
   "outputs": [],
   "source": [
    "# My custom plot specifiers, in Python dictionary format.\n",
    "\n",
    "one_panel_specs = {\n",
    " 'axes.linewidth':  1.5, \n",
    " 'xtick.top' : True,         \n",
    " 'ytick.right' :  True,\n",
    " 'xtick.direction' : 'in',    \n",
    " 'ytick.direction' : 'in', \n",
    " 'xtick.major.size' : 11,     \n",
    " 'ytick.major.size' : 11,\n",
    " 'xtick.minor.size' : 5.5,    \n",
    " 'ytick.minor.size' : 5.5,      \n",
    " 'font.size' : 18,              \n",
    " 'figure.figsize' : [6, 6], \n",
    " 'lines.linewidth' : 2.5      \n",
    "}\n",
    "\n",
    "# Also create spefications for two-panel plots\n",
    "# with residuals in the lower panel.\n",
    "\n",
    "two_panel_specs = {\n",
    " 'axes.linewidth':  1.5, \n",
    " 'xtick.top' : True,         \n",
    " 'ytick.right' :  True,\n",
    " 'xtick.direction' : 'in',    \n",
    " 'ytick.direction' : 'in', \n",
    " 'xtick.major.size' : 11,     \n",
    " 'ytick.major.size' : 11,\n",
    " 'xtick.minor.size' : 5.5,    \n",
    " 'ytick.minor.size' : 5.5,      \n",
    " 'font.size' : 18,              \n",
    " 'figure.figsize' : [6, 8], \n",
    " 'lines.linewidth' : 2.5      \n",
    "}\n",
    "\n",
    "# Update the plot style dictionary.\n",
    "\n",
    "plt.rcParams.update(one_panel_specs)"
   ]
  },
  {
   "cell_type": "code",
   "execution_count": 3,
   "metadata": {},
   "outputs": [
    {
     "name": "stdout",
     "output_type": "stream",
     "text": [
      "Reading data from http://www.astronomy.ohio-state.edu/~terndrup/A3350/EBstar.dat\n",
      "Type of file locator object: <class 'http.client.HTTPResponse'>\n",
      "\n",
      "Type of data object         : <class 'numpy.ndarray'>\n",
      "Field names in the data file: ('BJD',)\n",
      "Number of data points       : 97\n"
     ]
    }
   ],
   "source": [
    "# Specify the location where the data file may be found.\n",
    "indir = 'http://www.astronomy.ohio-state.edu/~terndrup/A3350/EBstar.dat'\n",
    "\n",
    "# Display URL\n",
    "print('Reading data from', indir)\n",
    "\n",
    "# Open the file and save the file locator information in a variable.  \n",
    "#Show the type of this object, to demonstrate that Python permits the \n",
    "#definition of different object types.\n",
    "lf = urllib.request.urlopen(indir)\n",
    "print('Type of file locator object:', type(lf))\n",
    "\n",
    "# Put the data into a numpy array.  Print some diagnostic information about the array. \n",
    "Data = np.genfromtxt(lf, unpack=True, names=True)\n",
    "\n",
    "print('')\n",
    "print('Type of data object         :', type(Data))\n",
    "print('Field names in the data file:', Data.dtype.names)\n",
    "print('Number of data points       :', len(Data))"
   ]
  },
  {
   "cell_type": "code",
   "execution_count": 4,
   "metadata": {},
   "outputs": [
    {
     "name": "stdout",
     "output_type": "stream",
     "text": [
      "[(2449494.634374,) (2449499.707904,) (2449500.976214,) (2449815.537006,)\n",
      " (2449830.757777,) (2449840.904807,) (2449853.588777,) (2449858.662277,)\n",
      " (2449872.614487,) (2449881.493207,) (2449947.449548,) (2450221.421561,)\n",
      " (2450222.689991,) (2450232.837271,) (2450241.715851,) (2450255.667991,)\n",
      " (2450259.473431,) (2450549.935025,) (2450566.423705,) (2450568.960775,)\n",
      " (2450624.769986,) (2450643.795676,) (2450717.362226,) (2450831.517558,)\n",
      " (2450870.837458,) (2450903.815719,) (2450931.720379,) (2450955.819539,)\n",
      " (2450969.771879,) (2450983.724229,) (2450993.871209,) (2450997.676449,)\n",
      " (2451007.823719,) (2451021.775889,) (2451026.849409,) (2451030.65466 ,)\n",
      " (2451058.55929 ,) (2451220.912921,) (2451224.718331,) (2451234.865291,)\n",
      " (2451253.891311,) (2451256.428201,) (2451267.843591,) (2451276.722261,)\n",
      " (2451281.795801,) (2451295.748071,) (2451299.553371,) (2451300.821831,)\n",
      " (2451309.700151,) (2451319.847611,) (2451375.656621,) (2451394.682801,)\n",
      " (2451616.650801,) (2451666.117801,) (2451678.801821,) (2451688.949001,)\n",
      " (2451738.416191,) (2451766.320801,) (2451780.273111,) (2451995.899369,)\n",
      " (2452004.778289,) (2452018.730549,) (2452032.682769,) (2452037.756359,)\n",
      " (2452059.318739,) (2452060.587299,) (2452084.686658,) (2452089.760268,)\n",
      " (2452103.712518,) (2452334.559406,) (2452853.331039,) (2453082.909637,)\n",
      " (2453107.008807,) (2453110.814067,) (2453115.887657,) (2453120.961367,)\n",
      " (2453124.766317,) (2453138.718937,) (2453143.792657,) (2453153.939376,)\n",
      " (2453157.744726,) (2453162.818546,) (2453176.770786,) (2453472.305374,)\n",
      " (2453478.647434,) (2453482.452594,) (2453766.571733,) (2453832.528163,)\n",
      " (2453860.432643,) (2453898.484343,) (2454149.625634,) (2454210.508334,)\n",
      " (2454215.581894,) (2454252.365284,) (2454286.611705,) (2454485.749016,)\n",
      " (2454541.558136,)]\n"
     ]
    }
   ],
   "source": [
    "# Confirm file works\n",
    "print(Data)"
   ]
  },
  {
   "cell_type": "markdown",
   "metadata": {},
   "source": [
    "The preliminary period in days can be found by finding the smallest interval between two of the eclipe times. It can be found in hours by dividing by 24."
   ]
  },
  {
   "cell_type": "code",
   "execution_count": 7,
   "metadata": {
    "scrolled": true
   },
   "outputs": [
    {
     "name": "stdout",
     "output_type": "stream",
     "text": [
      "Days in the preliminary period: 1.2684300001710653\n",
      "Hours in the preliminary period: 0.052851250007127724\n"
     ]
    }
   ],
   "source": [
    "# Based on the data the smallest interval is between 2450221.421561 and 2450222.689991\n",
    "days = 2450222.689991 - 2450221.421561\n",
    "hours = days / 24\n",
    "\n",
    "print(\"Days in the preliminary period:\", days)\n",
    "print(\"Hours in the preliminary period:\", hours)"
   ]
  },
  {
   "cell_type": "markdown",
   "metadata": {},
   "source": [
    "To find the eclipse numbers, divide the julian dates by the prelimiary period 1.27 days."
   ]
  },
  {
   "cell_type": "code",
   "execution_count": 74,
   "metadata": {},
   "outputs": [],
   "source": [
    "# Caclulate the difference between each date\n",
    "d = np.diff(Data['BJD'])"
   ]
  },
  {
   "cell_type": "code",
   "execution_count": 79,
   "metadata": {},
   "outputs": [
    {
     "name": "stdout",
     "output_type": "stream",
     "text": [
      "[  3.99985021   0.99990539 247.99223604  11.99969332   7.99967676\n",
      "   9.99973983   3.99982656  10.99959004   6.99977137  51.99840826\n",
      " 215.99300944   1.           7.99987386   6.999661    10.99953486\n",
      "   3.00011826 228.99300234  12.99928258   2.00016556  43.99865266\n",
      "  14.99940083  57.99811577  89.99734474  30.99887262  25.99927548\n",
      "  21.9993693   18.99920374  10.99969253  10.99970042   7.99963735\n",
      "   2.99996058   7.99986598  10.99955851   3.99984232   2.99996925\n",
      "  21.99934564 127.99573566   3.0000946    7.99962158  14.999661\n",
      "   2.00002365   8.99962158   6.99973195   3.99985809  10.99963735\n",
      "   3.00000788   1.00002365   6.99945602   8.00001577  43.9984942\n",
      "  14.99978714 174.99428425  38.99860457   9.99977925   7.99979502\n",
      "  38.99875436  21.99932988  10.99966888 169.99460591   6.99992905\n",
      "  10.99962946  10.99959793   3.99989751  16.99926681   1.00010249\n",
      "  18.99936062   3.99991328  10.99962158 181.99418807 408.98719908\n",
      " 180.99429844  18.99921162   2.99997635   3.99989751   3.99999212\n",
      "   2.99973195  10.99991328   4.           7.99943158   3.0000473\n",
      "   4.00007884  10.99961369 232.99242998   4.99992905   2.99989751\n",
      " 223.99276189  51.99847843  21.99922739  29.99905394 197.99381201\n",
      "  47.99847054   3.99987386  28.99914855  26.99906262 156.99511283\n",
      "  43.99858092]\n"
     ]
    }
   ],
   "source": [
    "# For loop to create an array with the eclipse numbers\n",
    "for i in range(len(Data['BJD'])):\n",
    "    e_num = d / days\n",
    "print(e_num)"
   ]
  },
  {
   "cell_type": "code",
   "execution_count": 80,
   "metadata": {},
   "outputs": [],
   "source": [
    "# Assign preliminary eclipse numbers\n",
    "def eclipse(c):\n",
    "    \"\"\"\n",
    "    Turns the eclipse numbers into preliminary ones as \n",
    "    intergers and creates an array of the results\n",
    "    \"\"\"\n",
    "    M = []\n",
    "    sum = 0\n",
    "    for j in range(96):\n",
    "        sum = sum + c[j]\n",
    "        \n",
    "        #convert to integers\n",
    "        M.append(\"%.0f\" %  sum)\n",
    "        \n",
    "    return M"
   ]
  },
  {
   "cell_type": "code",
   "execution_count": 130,
   "metadata": {},
   "outputs": [
    {
     "data": {
      "text/plain": [
       "['4',\n",
       " '5',\n",
       " '253',\n",
       " '265',\n",
       " '273',\n",
       " '283',\n",
       " '287',\n",
       " '298',\n",
       " '305',\n",
       " '357',\n",
       " '573',\n",
       " '574',\n",
       " '582',\n",
       " '589',\n",
       " '600',\n",
       " '603',\n",
       " '832',\n",
       " '845',\n",
       " '847',\n",
       " '891',\n",
       " '906',\n",
       " '964',\n",
       " '1054',\n",
       " '1085',\n",
       " '1111',\n",
       " '1133',\n",
       " '1152',\n",
       " '1163',\n",
       " '1174',\n",
       " '1182',\n",
       " '1185',\n",
       " '1193',\n",
       " '1204',\n",
       " '1208',\n",
       " '1211',\n",
       " '1233',\n",
       " '1361',\n",
       " '1364',\n",
       " '1372',\n",
       " '1387',\n",
       " '1389',\n",
       " '1398',\n",
       " '1405',\n",
       " '1409',\n",
       " '1420',\n",
       " '1423',\n",
       " '1424',\n",
       " '1431',\n",
       " '1439',\n",
       " '1483',\n",
       " '1498',\n",
       " '1673',\n",
       " '1712',\n",
       " '1722',\n",
       " '1730',\n",
       " '1769',\n",
       " '1791',\n",
       " '1802',\n",
       " '1972',\n",
       " '1979',\n",
       " '1990',\n",
       " '2001',\n",
       " '2005',\n",
       " '2022',\n",
       " '2023',\n",
       " '2042',\n",
       " '2046',\n",
       " '2057',\n",
       " '2239',\n",
       " '2648',\n",
       " '2829',\n",
       " '2848',\n",
       " '2851',\n",
       " '2855',\n",
       " '2859',\n",
       " '2862',\n",
       " '2873',\n",
       " '2877',\n",
       " '2885',\n",
       " '2888',\n",
       " '2892',\n",
       " '2903',\n",
       " '3136',\n",
       " '3141',\n",
       " '3144',\n",
       " '3368',\n",
       " '3420',\n",
       " '3442',\n",
       " '3472',\n",
       " '3670',\n",
       " '3718',\n",
       " '3722',\n",
       " '3751',\n",
       " '3778',\n",
       " '3935',\n",
       " '3979']"
      ]
     },
     "execution_count": 130,
     "metadata": {},
     "output_type": "execute_result"
    }
   ],
   "source": [
    "# Use the function\n",
    "eclipse(e_num)"
   ]
  },
  {
   "cell_type": "code",
   "execution_count": 131,
   "metadata": {},
   "outputs": [],
   "source": [
    "# Turn this data into an array\n",
    "eclipse_num = [0, \n",
    "4,\n",
    " 5,\n",
    " 253,\n",
    " 265,\n",
    " 273,\n",
    " 283,\n",
    " 287,\n",
    " 298,\n",
    " 305,\n",
    " 357,\n",
    " 573,\n",
    " 574,\n",
    " 582,\n",
    " 589,\n",
    " 600,\n",
    " 603,\n",
    " 832,\n",
    " 845,\n",
    " 847,\n",
    " 891,\n",
    " 906,\n",
    " 964,\n",
    " 1054,\n",
    " 1085,\n",
    " 1111,\n",
    " 1133,\n",
    " 1152,\n",
    " 1163,\n",
    " 1174,\n",
    " 1182,\n",
    " 1185,\n",
    " 1193,\n",
    " 1204,\n",
    " 1208,\n",
    " 1211,\n",
    " 1233,\n",
    " 1361,\n",
    " 1364,\n",
    " 1372,\n",
    " 1387,\n",
    " 1389,\n",
    " 1398,\n",
    " 1405,\n",
    " 1409,\n",
    " 1420,\n",
    " 1423,\n",
    " 1424,\n",
    " 1431,\n",
    " 1439,\n",
    " 1483,\n",
    " 1498,\n",
    " 1673,\n",
    " 1712,\n",
    " 1722,\n",
    " 1730,\n",
    " 1769,\n",
    " 1791,\n",
    " 1802,\n",
    " 1972,\n",
    " 1979,\n",
    " 1990,\n",
    " 2001,\n",
    " 2005,\n",
    " 2022,\n",
    " 2023,\n",
    " 2042,\n",
    " 2046,\n",
    " 2057,\n",
    " 2239,\n",
    " 2648,\n",
    " 2829,\n",
    " 2848,\n",
    " 2851,\n",
    " 2855,\n",
    " 2859,\n",
    " 2862,\n",
    " 2873,\n",
    " 2877,\n",
    " 2885,\n",
    " 2888,\n",
    " 2892,\n",
    " 2903,\n",
    " 3136,\n",
    " 3141,\n",
    " 3144,\n",
    " 3368,\n",
    " 3420,\n",
    " 3442,\n",
    " 3472,\n",
    " 3670,\n",
    " 3718,\n",
    " 3722,\n",
    " 3751,\n",
    " 3778,\n",
    " 3935,\n",
    " 3979]"
   ]
  },
  {
   "cell_type": "code",
   "execution_count": 300,
   "metadata": {},
   "outputs": [],
   "source": [
    "# It is necessary to put plot style dicationary updates in\n",
    "# a separate cell from the plot code.\n",
    "\n",
    "plt.rcParams.update(two_panel_specs)"
   ]
  },
  {
   "cell_type": "code",
   "execution_count": 301,
   "metadata": {},
   "outputs": [
    {
     "name": "stdout",
     "output_type": "stream",
     "text": [
      "Slope of fit to all points: 1.258\n",
      "Intercept                 : 2449519.017\n"
     ]
    }
   ],
   "source": [
    "# Copy arrays so coding is easier to read.\n",
    "X = eclipse_num\n",
    "Y = Data['BJD']\n",
    "\n",
    "# Step 1: Create a basis funciton that is all 1.000\n",
    "C = np.ones(len(X))\n",
    "\n",
    "# Step 2: Bind all the variables in the model. The\n",
    "# software needs the transpose of the stacked basis\n",
    "# functions\n",
    "Matrix = np.vstack([X, C]).T\n",
    "\n",
    "# Step 3: generate the coefficients of the fit.  The\n",
    "# first element of the returned object contains these\n",
    "# cofficients\n",
    "slope, intcpt = np.linalg.lstsq(Matrix, Y, rcond=None)[0]\n",
    "\n",
    "# Report:\n",
    "print('Slope of fit to all points:', '{0:5.3f}'.format(slope))\n",
    "print('Intercept                 :', '{0:5.3f}'.format(intcpt))\n"
   ]
  },
  {
   "cell_type": "code",
   "execution_count": 302,
   "metadata": {},
   "outputs": [
    {
     "data": {
      "text/plain": [
       "Text(0, 0.5, 'Julian Date')"
      ]
     },
     "execution_count": 302,
     "metadata": {},
     "output_type": "execute_result"
    },
    {
     "data": {
      "image/png": "[encoded data removed]",
      "text/plain": [
       "<Figure size 432x576 with 1 Axes>"
      ]
     },
     "metadata": {
      "needs_background": "light"
     },
     "output_type": "display_data"
    }
   ],
   "source": [
    "# Plot the general data before line fitting\n",
    "fig,ax = plt.subplots()\n",
    "ax.plot(eclipse_num, Data['BJD'], 'ok')\n",
    "ax.set_xlabel('Eclipse Number')\n",
    "ax.set_ylabel('Julian Date')"
   ]
  },
  {
   "cell_type": "code",
   "execution_count": 303,
   "metadata": {},
   "outputs": [
    {
     "data": {
      "text/plain": [
       "(-400, 300)"
      ]
     },
     "execution_count": 303,
     "metadata": {},
     "output_type": "execute_result"
    },
    {
     "data": {
      "image/png": "[encoded data removed]",
      "text/plain": [
       "<Figure size 432x576 with 2 Axes>"
      ]
     },
     "metadata": {
      "needs_background": "light"
     },
     "output_type": "display_data"
    }
   ],
   "source": [
    "# Set up a two-panel plot with a smaller\n",
    "# lower panel and no space between the panels.\n",
    "fig,ax = plt.subplots(2, 1, sharex=True,\n",
    "                      gridspec_kw={'height_ratios': [4, 1]})\n",
    "fig.subplots_adjust(hspace=0, wspace=0)\n",
    "\n",
    "# Select (x,y) data for each group\n",
    "x = eclipse_num\n",
    "y = Data['BJD']\n",
    "\n",
    "# Plot these data with distinguishing point\n",
    "# styles\n",
    "ax[0].plot(x, y, 'ok')\n",
    "ax[0].set_xlim(0,4100)\n",
    "ax[0].set_ylim(2449000,2455000)\n",
    "ax[0].set_ylabel('Julian Date')\n",
    "\n",
    "# Show model fit\n",
    "ymodel = np.copy(xmodel)\n",
    "ymodel = slope * xmodel + intcpt\n",
    "ax[0].plot(xmodel, ymodel, 'r--', label=\"linear fit\")\n",
    "\n",
    "ax[0].legend(loc='lower right', shadow=True, fontsize=16)\n",
    "\n",
    "# Compute residuals for all points, then separate\n",
    "# them by group\n",
    "en = np.array(eclipse_num)\n",
    "resid = Data['BJD'] - (slope * en + intcpt)\n",
    "\n",
    "r = resid\n",
    "\n",
    "# Plot the residuals.\n",
    "ax[1].plot(x, r, 'ok')\n",
    "ax[1].set_ylabel('Residual')\n",
    "ax[1].set_xlabel('Eclipse Number')\n",
    "ax[1].set_ylim(-400, 300)"
   ]
  },
  {
   "cell_type": "code",
   "execution_count": 276,
   "metadata": {},
   "outputs": [
    {
     "name": "stdout",
     "output_type": "stream",
     "text": [
      "Residuals: [-336.12273573  296.87723438 -336.12284559 -336.1227665  -336.12267515\n",
      " -336.12276492 -336.12269464 -336.12275452 -336.12283421 -336.12284401\n",
      " -336.12278152 -336.12300235 -336.12296232 -336.12280209 -336.12295189\n",
      " -336.12310157 -336.12283149 -336.12254094 -336.12293057 -336.12264051\n",
      " -336.12258825 -336.12274783 -336.12281617 -336.12258159 -336.12277071\n",
      " -336.12264896 -336.12256834 -336.12281779 -336.12276748 -336.12270716\n",
      " -336.12284693 -336.12277685 -336.12262662 -336.12274631 -336.12278619\n",
      " -336.12270511 -336.12265448 -336.12293982 -336.12269973 -336.1228595\n",
      " -336.12268907 -336.12257902 -336.12269876 -336.12275856 -336.12277844\n",
      " -336.12279813 -336.12266804 -336.12259801 -336.12300781 -336.12266759\n",
      " -336.12281633 -336.1224859  -336.1227309  -336.12293978 -336.12281949\n",
      " -336.12275927 -336.12277815 -336.12274752 -336.12272721 -336.12276435\n",
      " -336.12257415 -336.12260383 -336.12267352 -336.1226434  -336.12289292\n",
      " -336.12272289 -336.12277335 -336.12272323 -336.12276292 -336.12284971\n",
      " -336.12271502 -336.12270184 -336.1229413  -336.12285121 -336.1228211\n",
      " -336.12267099 -336.1228909  -336.12256059 -336.12240047 -336.12280124\n",
      " -336.12262116 -336.12236104 -336.12241073 -336.12268607 -336.12257592\n",
      " -336.12258584 -336.12280043 -336.12264895 -336.12274832 -336.12274746\n",
      " -336.1226708  -336.12268942 -336.12268931 -336.12260848 -336.12271671\n",
      " -336.12263122 -336.12266996]\n"
     ]
    }
   ],
   "source": [
    "print('Residuals:', r)"
   ]
  },
  {
   "cell_type": "code",
   "execution_count": 278,
   "metadata": {},
   "outputs": [],
   "source": [
    "# Convert residuals to seconds\n",
    "def residuals(R):\n",
    "    S = []\n",
    "    sum = 0\n",
    "    for j in range(len(eclipse_num)):\n",
    "        sum = R[j] * 86400\n",
    "        \n",
    "        #convert to integers\n",
    "        S.append(\"%.0f\" %  sum)\n",
    "        \n",
    "    return S"
   ]
  },
  {
   "cell_type": "code",
   "execution_count": 279,
   "metadata": {},
   "outputs": [
    {
     "name": "stdout",
     "output_type": "stream",
     "text": [
      "Residuals in seconds: ['-29041004', '25650193', '-29041014', '-29041007', '-29040999', '-29041007', '-29041001', '-29041006', '-29041013', '-29041014', '-29041008', '-29041027', '-29041024', '-29041010', '-29041023', '-29041036', '-29041013', '-29040988', '-29041021', '-29040996', '-29040992', '-29041005', '-29041011', '-29040991', '-29041007', '-29040997', '-29040990', '-29041011', '-29041007', '-29041002', '-29041014', '-29041008', '-29040995', '-29041005', '-29041009', '-29041002', '-29040997', '-29041022', '-29041001', '-29041015', '-29041000', '-29040991', '-29041001', '-29041006', '-29041008', '-29041010', '-29040999', '-29040992', '-29041028', '-29040998', '-29041011', '-29040983', '-29041004', '-29041022', '-29041012', '-29041006', '-29041008', '-29041005', '-29041004', '-29041007', '-29040990', '-29040993', '-29040999', '-29040996', '-29041018', '-29041003', '-29041008', '-29041003', '-29041007', '-29041014', '-29041003', '-29041001', '-29041022', '-29041014', '-29041012', '-29040999', '-29041018', '-29040989', '-29040975', '-29041010', '-29040994', '-29040972', '-29040976', '-29041000', '-29040991', '-29040991', '-29041010', '-29040997', '-29041005', '-29041005', '-29040999', '-29041000', '-29041000', '-29040993', '-29041003', '-29040995', '-29040999']\n"
     ]
    }
   ],
   "source": [
    "resids = residuals(r)\n",
    "print('Residuals in seconds:', resids)"
   ]
  },
  {
   "cell_type": "code",
   "execution_count": 287,
   "metadata": {},
   "outputs": [
    {
     "name": "stdout",
     "output_type": "stream",
     "text": [
      "Standard deviation of the residuals: 5524351.5979757765\n"
     ]
    }
   ],
   "source": [
    "r2 = np.array(resids).astype(np.float)\n",
    "print(\"Standard deviation of the residuals:\", np.std(r2))"
   ]
  },
  {
   "cell_type": "markdown",
   "metadata": {},
   "source": [
    "### Task B"
   ]
  },
  {
   "cell_type": "code",
   "execution_count": 186,
   "metadata": {},
   "outputs": [
    {
     "name": "stdout",
     "output_type": "stream",
     "text": [
      "Reading data from http://www.astronomy.ohio-state.edu/~terndrup/A3350/CMDra_times.dat\n",
      "Type of file locator object: <class 'http.client.HTTPResponse'>\n",
      "\n",
      "Type of data object         : <class 'numpy.ndarray'>\n",
      "Field names in the data file: ('BJD', 'error', 'enum', 'primsec', 'source')\n",
      "Number of data points       : 263\n"
     ]
    }
   ],
   "source": [
    "# Specify the location where the data files may be found.\n",
    "indir2 = 'http://www.astronomy.ohio-state.edu/~terndrup/A3350/CMDra_times.dat'\n",
    "\n",
    "# Display URL\n",
    "print('Reading data from', indir2)\n",
    "\n",
    "# Open the file and save the file locator information in a variable.  \n",
    "#Show the type of this object, to demonstrate that Python permits the \n",
    "#definition of different object types.\n",
    "lf = urllib.request.urlopen(indir2)\n",
    "print('Type of file locator object:', type(lf))\n",
    "\n",
    "# Put the data into a numpy array.  Print some diagnostic information about the array. \n",
    "Data2 = np.genfromtxt(lf, unpack=True, names=True, skip_header=22)\n",
    "\n",
    "print('')\n",
    "print('Type of data object         :', type(Data2))\n",
    "print('Field names in the data file:', Data2.dtype.names)\n",
    "print('Number of data points       :', len(Data2))\n"
   ]
  },
  {
   "cell_type": "markdown",
   "metadata": {},
   "source": [
    "Find the period in days by dividing the differnce between Julian Dates by the eclipse numbers."
   ]
  },
  {
   "cell_type": "code",
   "execution_count": 187,
   "metadata": {},
   "outputs": [],
   "source": [
    "# Compute the difference between Julian Dates\n",
    "diff2 = np.diff(Data2['BJD'])"
   ]
  },
  {
   "cell_type": "code",
   "execution_count": 188,
   "metadata": {},
   "outputs": [],
   "source": [
    "# Make and array of eclipse numbers\n",
    "enums = np.array(Data2['enum'])"
   ]
  },
  {
   "cell_type": "code",
   "execution_count": 189,
   "metadata": {
    "scrolled": true
   },
   "outputs": [
    {
     "name": "stdout",
     "output_type": "stream",
     "text": [
      "Periods in days: [ 2.71502184e-02  1.75009836e+00  8.53442111e-04  5.12612009e-04\n",
      "  3.41484653e-04  1.70501885e-04  2.73210905e-03  1.36606656e-02\n",
      "  6.81326931e-02  3.58559962e-03  5.12606354e-04  8.53441034e-04\n",
      "  1.87866155e-03  3.41517771e-03  5.11970921e-04  8.54076467e-04\n",
      "  3.75666236e-03  2.39060824e-03  1.77588328e-02  5.11952073e-04\n",
      "  1.36609855e-03  7.18894111e-02  3.41445611e-04  5.63473586e-03\n",
      "  3.41514540e-04  2.04908212e-03  1.36608212e-03  5.12571352e-04\n",
      "  8.53505654e-04  2.73210258e-03  9.80151018e-02  1.87862412e-03\n",
      "  1.87800458e-03  1.60512776e-02  5.25934238e-02  2.37356497e-02\n",
      "  5.11973613e-04  1.36606624e-03  2.39061120e-03  8.91356287e-02\n",
      "  5.12275687e-03  3.75667205e-03  6.54006155e-02  4.02988697e-02\n",
      "  3.75668013e-03  1.71269893e-01  1.03137798e-01  1.45147474e-02\n",
      "  6.18143791e-02  9.39138368e-03  8.54097738e-04  4.26861093e-03\n",
      "  5.12646742e-04  1.87797254e-03  2.22019655e-03  1.87803985e-03\n",
      "  7.95731430e-02  4.26928810e-03  1.70760878e-03  5.29314055e-03\n",
      "  1.36606274e-03  1.78612800e-01 -3.31475307e+00  1.88516738e-01\n",
      "  5.12555197e-04  1.34897631e-02  7.56458670e-02  1.36610393e-03\n",
      "  5.12284868e-03  1.45140226e-02  7.51334653e-03  1.75009840e+00\n",
      "  8.53451804e-04  5.12603662e-04  3.41494346e-04  1.70492730e-04\n",
      "  2.73211632e-03  1.36606572e-02  6.81326928e-02  3.58560878e-03\n",
      "  5.12606354e-04  1.70417340e-04  6.83023694e-04  1.87866182e-03\n",
      "  3.41517771e-03  5.11970921e-04  8.54076467e-04  3.75665320e-03\n",
      "  2.39060851e-03  1.77588425e-02  5.11952073e-04  1.36609855e-03\n",
      "  7.18893196e-02  1.70519655e-04  1.71007001e-04  8.53484114e-04\n",
      "  1.87868605e-03  1.87796177e-03  5.12609047e-04  5.11995153e-04\n",
      "  3.41523963e-04  2.04908185e-03  8.54033387e-04  5.12049004e-04\n",
      "  5.12571352e-04  8.53505654e-04  2.73210285e-03  7.46216058e-02\n",
      "  4.43960151e-03  1.70525040e-04  5.12584814e-04  1.50267127e-02\n",
      "  1.87800754e-03  1.36606354e-03  1.87862412e-03  1.87800485e-03\n",
      "  7.17180937e-03  8.87945880e-03  1.87862951e-03  2.16859561e-02\n",
      "  7.17186618e-03  1.87866990e-03  1.05869413e-02  7.00077544e-03\n",
      "  1.87867017e-03  5.11914378e-04  1.36606624e-03  5.63539041e-03\n",
      "  2.90254443e-03  1.36604200e-03  3.41499731e-04  1.02455574e-03\n",
      "  8.54092622e-04  5.11935918e-04  1.36606624e-03  1.02455035e-03\n",
      "  8.54135703e-04  3.75669090e-03  1.87799408e-03  8.54095315e-04\n",
      "  5.11989769e-04  5.12576737e-04  8.53473344e-04  1.87869413e-03\n",
      "  5.11917071e-04  3.24472536e-03  5.11949381e-04  8.54103393e-04\n",
      "  5.11995423e-04  5.12574044e-04  1.87798061e-03  5.63538234e-03\n",
      "  8.53459882e-04  9.90393915e-03  3.24439771e-02  5.12579429e-04\n",
      "  1.02461228e-03  2.73208401e-03  5.11995153e-04  4.61078891e-03\n",
      "  6.83061389e-04  1.19500538e-03  1.87860528e-03  1.87796984e-03\n",
      "  5.12625202e-04  1.36605816e-03  3.24415186e-03  5.12517501e-04\n",
      "  1.02458266e-03  3.41534733e-04  2.39050081e-03  2.73221863e-03\n",
      "  1.87796984e-03  3.75668013e-03  5.12275714e-03  3.75667205e-03\n",
      "  5.12579429e-04  5.12282714e-03  5.11930533e-04  1.02454416e-02\n",
      "  4.90078406e-02  8.36674744e-03  4.95231556e-03  3.41519117e-03\n",
      "  1.87801292e-03  8.54130318e-04  1.53649165e-03  1.36599354e-03\n",
      "  1.02455197e-02  1.71109316e-04  7.51335757e-03  3.75668013e-03\n",
      "  4.83241998e-02  9.73348950e-03  2.39066236e-03  3.75666667e-03\n",
      "  1.87804254e-03  1.87861335e-03  1.36607162e-03  5.11938611e-04\n",
      "  2.73211901e-03  2.56164513e-03  1.70471190e-04  1.71090468e-04\n",
      "  2.21952612e-03  4.26926198e-03  1.36607701e-03  3.75666397e-03\n",
      "  6.21558665e-02  2.20274849e-02  3.41462035e-04  1.02796334e-01\n",
      "  1.45147493e-02  6.18143775e-02  5.63466074e-03  8.54076467e-04\n",
      "  5.12003231e-04  5.12568659e-04  1.36607162e-03  5.11895530e-04\n",
      "  8.54208401e-04  5.11930533e-04  5.12557889e-04  8.53438341e-04\n",
      "  1.02459074e-03  1.36608239e-03  5.12652127e-04  1.36610662e-03\n",
      "  5.11925148e-04  2.22009397e-03  5.11954766e-04  5.12641357e-04\n",
      "  8.53489499e-04  5.12644049e-04  3.75666128e-03  7.53038363e-02\n",
      "  4.26928918e-03  1.70760905e-03  1.02454496e-03  4.26859451e-03\n",
      "  1.36606354e-03  2.04909316e-02  5.03739093e-02  1.77588665e-02\n",
      "  7.51332256e-03  1.87801831e-03  8.36745827e-03  7.34228056e-03\n",
      "  2.73212466e-02  3.29566373e-02  4.61012924e-03  6.14728056e-03\n",
      "  5.63534733e-03  1.36606354e-03  5.11943996e-04  2.73208939e-03\n",
      "  6.65994884e-03  9.22089957e-03  5.63468767e-03  7.51336295e-03\n",
      "  4.04699653e-02  1.50266882e-02]\n"
     ]
    },
    {
     "name": "stderr",
     "output_type": "stream",
     "text": [
      "/home/idies/miniconda3/envs/py37/lib/python3.7/site-packages/ipykernel_launcher.py:2: RuntimeWarning: divide by zero encountered in true_divide\n",
      "  \n"
     ]
    }
   ],
   "source": [
    "# For loop to create an array for periods\n",
    "for j in range(len(Data2['enum'])):\n",
    "    p_days = diff2 / enums[j]\n",
    "print(\"Periods in days:\",p_days)"
   ]
  },
  {
   "cell_type": "code",
   "execution_count": 304,
   "metadata": {},
   "outputs": [
    {
     "name": "stdout",
     "output_type": "stream",
     "text": [
      "Slope of fit to all points: 1.268\n",
      "Intercept                 : 2449830.757\n"
     ]
    }
   ],
   "source": [
    "# Copy arrays so coding is easier to read.\n",
    "X = Data2['enum']\n",
    "Y = Data2['BJD']\n",
    "\n",
    "# Step 1: Create a basis funciton that is all 1.000\n",
    "C = np.ones(len(X))\n",
    "\n",
    "# Step 2: Bind all the variables in the model. The\n",
    "# software needs the transpose of the stacked basis\n",
    "# functions\n",
    "Matrix = np.vstack([X, C]).T\n",
    "\n",
    "# Step 3: generate the coefficients of the fit.  The\n",
    "# first element of the returned object contains these\n",
    "# cofficients\n",
    "slope, intcpt = np.linalg.lstsq(Matrix, Y, rcond=None)[0]\n",
    "\n",
    "# Report:\n",
    "print('Slope of fit to all points:', '{0:5.3f}'.format(slope))\n",
    "print('Intercept                 :', '{0:5.3f}'.format(intcpt))\n"
   ]
  },
  {
   "cell_type": "code",
   "execution_count": 305,
   "metadata": {},
   "outputs": [
    {
     "data": {
      "text/plain": [
       "(-0.1, 0.1)"
      ]
     },
     "execution_count": 305,
     "metadata": {},
     "output_type": "execute_result"
    },
    {
     "data": {
      "image/png": "[encoded data removed]",
      "text/plain": [
       "<Figure size 432x576 with 2 Axes>"
      ]
     },
     "metadata": {
      "needs_background": "light"
     },
     "output_type": "display_data"
    }
   ],
   "source": [
    "# Set up a two-panel plot with a smaller\n",
    "# lower panel and no space between the panels.\n",
    "fig,ax = plt.subplots(2, 1, sharex=True,\n",
    "                      gridspec_kw={'height_ratios': [4, 1]})\n",
    "fig.subplots_adjust(hspace=0, wspace=0)\n",
    "\n",
    "# Select (x,y) data for each group\n",
    "x = Data2['enum']\n",
    "y = Data2['BJD']\n",
    "\n",
    "# Plot these data with distinguishing point\n",
    "# styles\n",
    "ax[0].plot(x, y, 'ok')\n",
    "ax[0].set_xlim(-6500,4100)\n",
    "ax[0].set_ylim(2449000,2455000)\n",
    "ax[0].set_ylabel('Julian Date')\n",
    "\n",
    "# Show model fit and equality.\n",
    "ymodel = np.copy(xmodel)\n",
    "ymodel = slope * xmodel + intcpt\n",
    "ax[0].plot(xmodel, ymodel, 'r--', label=\"linear fit\")\n",
    "\n",
    "ax[0].legend(loc='upper left', shadow=True, fontsize=16)\n",
    "\n",
    "# Compute residuals for all points, then separate\n",
    "# them by group\n",
    "residuals = Data2['BJD'] - (slope * Data2['enum'] + intcpt)\n",
    "\n",
    "# Plot the residuals.\n",
    "ax[1].plot(x, residuals, 'ok')\n",
    "ax[1].set_ylabel('Residual')\n",
    "ax[1].set_xlabel('Eclipse Number')\n",
    "ax[1].set_ylim(-.1, .1)"
   ]
  },
  {
   "cell_type": "markdown",
   "metadata": {},
   "source": [
    "Find the standard deviation of the resiaduals and the standard deviation of the errors"
   ]
  },
  {
   "cell_type": "code",
   "execution_count": 221,
   "metadata": {},
   "outputs": [
    {
     "data": {
      "text/plain": [
       "0.0006095556483665468"
      ]
     },
     "execution_count": 221,
     "metadata": {},
     "output_type": "execute_result"
    }
   ],
   "source": [
    "np.std(residuals)"
   ]
  },
  {
   "cell_type": "code",
   "execution_count": 218,
   "metadata": {},
   "outputs": [
    {
     "data": {
      "text/plain": [
       "7.500670106492952e-05"
      ]
     },
     "execution_count": 218,
     "metadata": {},
     "output_type": "execute_result"
    }
   ],
   "source": [
    "np.std(Data2['error'])"
   ]
  },
  {
   "cell_type": "markdown",
   "metadata": {},
   "source": [
    "The standard deviation of the expected errors in days is 0.000075 and the standard deviation of the residuals is 0.0006. The standard deviation of the residuals proves to be larger than that of the expected errors."
   ]
  },
  {
   "cell_type": "markdown",
   "metadata": {},
   "source": [
    "Plot the residuals against different quantities in the data to see if there is a correlation."
   ]
  },
  {
   "cell_type": "code",
   "execution_count": 198,
   "metadata": {},
   "outputs": [
    {
     "data": {
      "text/plain": [
       "Text(0, 0.5, 'Data Source')"
      ]
     },
     "execution_count": 198,
     "metadata": {},
     "output_type": "execute_result"
    },
    {
     "data": {
      "image/png": "[encoded data removed]",
      "text/plain": [
       "<Figure size 432x576 with 1 Axes>"
      ]
     },
     "metadata": {
      "needs_background": "light"
     },
     "output_type": "display_data"
    }
   ],
   "source": [
    "fig,ax = plt.subplots()\n",
    "# Plot limits\n",
    "ax.set_xlim(-0.001,0.0011)\n",
    "ax.set_ylim(0,12)  \n",
    "ax.plot(residuals, Data2['source'],'ok')\n",
    "ax.set_xlabel('Residuals')\n",
    "ax.set_ylabel('Data Source')"
   ]
  },
  {
   "cell_type": "code",
   "execution_count": 201,
   "metadata": {},
   "outputs": [
    {
     "data": {
      "text/plain": [
       "Text(0, 0.5, 'Eclipse Type')"
      ]
     },
     "execution_count": 201,
     "metadata": {},
     "output_type": "execute_result"
    },
    {
     "data": {
      "image/png": "[encoded data removed]",
      "text/plain": [
       "<Figure size 432x576 with 1 Axes>"
      ]
     },
     "metadata": {
      "needs_background": "light"
     },
     "output_type": "display_data"
    }
   ],
   "source": [
    "fig,ax = plt.subplots()  \n",
    "ax.plot(residuals, Data2['primsec'],'ok')\n",
    "# Plot limits\n",
    "ax.set_xlim(-0.001,0.00115)\n",
    "ax.set_ylim(.9,2.1)\n",
    "ax.set_xlabel('Residuals')\n",
    "ax.set_ylabel('Eclipse Type')"
   ]
  },
  {
   "cell_type": "markdown",
   "metadata": {},
   "source": [
    "The eclipse type appears to be correlated with the resiudals. For the most part the residuals are positive for primary eclipses and for secondary eclipses they are negative."
   ]
  },
  {
   "cell_type": "code",
   "execution_count": 306,
   "metadata": {},
   "outputs": [
    {
     "data": {
      "text/plain": [
       "(-0.1, 0.1)"
      ]
     },
     "execution_count": 306,
     "metadata": {},
     "output_type": "execute_result"
    },
    {
     "data": {
      "image/png": "[encoded data removed]",
      "text/plain": [
       "<Figure size 432x576 with 2 Axes>"
      ]
     },
     "metadata": {
      "needs_background": "light"
     },
     "output_type": "display_data"
    }
   ],
   "source": [
    "# Set up a two-panel plot with a smaller\n",
    "# lower panel and no space between the panels.\n",
    "fig,ax = plt.subplots(2, 1, sharex=True,\n",
    "                      gridspec_kw={'height_ratios': [4, 1]})\n",
    "fig.subplots_adjust(hspace=0, wspace=0)\n",
    "\n",
    "# Select (x,y) data for each group\n",
    "x0 = Data2['enum'][Data2['primsec']==1]\n",
    "x1 = Data2['enum'][Data2['primsec']==2]\n",
    "y0 = Data2['BJD'][Data2['primsec']==1]\n",
    "y1 = Data2['BJD'][Data2['primsec']==2]\n",
    "\n",
    "# Plot these data with distinguishing point\n",
    "# styles\n",
    "ax[0].plot(x0, y0, 'ok', label='primary eclipse')\n",
    "ax[0].plot(x1, y1, 'xb', label='secondary eclipse')\n",
    "ax[0].set_xlim(-7000,5000)\n",
    "ax[0].set_ylim(2449000,2455000)\n",
    "ax[0].set_ylabel('Julian Date')\n",
    "\n",
    "# Show model fit and equality.\n",
    "ymodel = np.copy(xmodel)\n",
    "ymodel = slope * xmodel + intcpt\n",
    "ax[0].plot(xmodel, ymodel, 'r--', label=\"linear fit\")\n",
    "\n",
    "ax[0].legend(loc='upper left', shadow=True, fontsize=16)\n",
    "\n",
    "# Compute residuals for all points, then separate\n",
    "# them by group\n",
    "residuals = Data2['BJD'] - (slope * Data2['enum'] + intcpt)\n",
    "\n",
    "r2 = residuals[Data2['primsec']==1]\n",
    "r3 = residuals[Data2['primsec']==2]\n",
    "\n",
    "# Plot the residuals.\n",
    "ax[1].plot(x0, r2, 'ok')\n",
    "ax[1].plot(x1, r3, 'xb')\n",
    "ax[1].set_ylabel('Residual')\n",
    "ax[1].set_xlabel('Eclipse Number')\n",
    "ax[1].set_ylim(-0.1, 0.1)"
   ]
  },
  {
   "cell_type": "markdown",
   "metadata": {},
   "source": [
    "Find the standard deviations between each type of eclipse."
   ]
  },
  {
   "cell_type": "code",
   "execution_count": 223,
   "metadata": {},
   "outputs": [
    {
     "data": {
      "text/plain": [
       "0.0001260590711480315"
      ]
     },
     "execution_count": 223,
     "metadata": {},
     "output_type": "execute_result"
    }
   ],
   "source": [
    "np.std(r2)"
   ]
  },
  {
   "cell_type": "code",
   "execution_count": 224,
   "metadata": {},
   "outputs": [
    {
     "data": {
      "text/plain": [
       "0.00012199883301730635"
      ]
     },
     "execution_count": 224,
     "metadata": {},
     "output_type": "execute_result"
    }
   ],
   "source": [
    "np.std(r3)"
   ]
  },
  {
   "cell_type": "markdown",
   "metadata": {},
   "source": [
    "The reason the residuals are large for a simple solution because the data includes two types of eclipses: primary and secondary. When the residuals of each separate type of eclipse are taken, the results are smaller. When the data for primary and secondary eclipses are separated, they both have residuals of about 0.0012. This is still larger than the standard deviation of the expected errors, 0.000075, but it is smaller than the previously computed standard deviation of the residuals, 0.0006."
   ]
  },
  {
   "cell_type": "markdown",
   "metadata": {},
   "source": [
    "### Task C"
   ]
  },
  {
   "cell_type": "markdown",
   "metadata": {},
   "source": [
    "Calculate the distance between the two stars and their velocity."
   ]
  },
  {
   "cell_type": "code",
   "execution_count": 57,
   "metadata": {},
   "outputs": [],
   "source": [
    "# Gravitational constant\n",
    "G = 6.6743*10**-11\n",
    "# 1 solar mass in kg\n",
    "s = 1.989 * 10**30\n",
    "# Mass 1\n",
    "m1 = 0.22 * s\n",
    "# Mass 2\n",
    "m2 = m1\n",
    "# Period \n",
    "P = np.mean(p_days)"
   ]
  },
  {
   "cell_type": "code",
   "execution_count": 64,
   "metadata": {},
   "outputs": [
    {
     "name": "stdout",
     "output_type": "stream",
     "text": [
      "59626.71060236011\n"
     ]
    }
   ],
   "source": [
    "# Keplers third law to find distance\n",
    "a = ((P*P*G*(m1+m2))/(4*3.14159*3.14159))**(1/3)"
   ]
  },
  {
   "cell_type": "code",
   "execution_count": 70,
   "metadata": {},
   "outputs": [
    {
     "name": "stdout",
     "output_type": "stream",
     "text": [
      "709.8937010897805\n"
     ]
    }
   ],
   "source": [
    "# Convert from m to au\n",
    "au = (a/(1.496**11))\n",
    "print(au)"
   ]
  },
  {
   "cell_type": "code",
   "execution_count": 68,
   "metadata": {},
   "outputs": [
    {
     "name": "stdout",
     "output_type": "stream",
     "text": [
      "22131516.20945171\n"
     ]
    }
   ],
   "source": [
    "# Velocity formula\n",
    "v = sqrt((G*m1)/a)"
   ]
  },
  {
   "cell_type": "code",
   "execution_count": 71,
   "metadata": {},
   "outputs": [
    {
     "name": "stdout",
     "output_type": "stream",
     "text": [
      "22131.516209451707\n"
     ]
    }
   ],
   "source": [
    "# Convert from m/s to km/s\n",
    "v2 = v/1000\n",
    "print(v2)"
   ]
  },
  {
   "cell_type": "markdown",
   "metadata": {},
   "source": [
    "The physical separation between the two stars in the CM Draconis binary system is 59,626.71 meters or 709.89 au. The orbital velocity of both stars is 22,131.51 kilometers per second."
   ]
  },
  {
   "cell_type": "markdown",
   "metadata": {},
   "source": [
    "### Task D"
   ]
  },
  {
   "cell_type": "code",
   "execution_count": 225,
   "metadata": {},
   "outputs": [
    {
     "name": "stdout",
     "output_type": "stream",
     "text": [
      "Min julian date: 2441855.75476\n"
     ]
    }
   ],
   "source": [
    "print(\"Min julian date:\",min(Data2['BJD']))"
   ]
  },
  {
   "cell_type": "code",
   "execution_count": 226,
   "metadata": {},
   "outputs": [
    {
     "name": "stdout",
     "output_type": "stream",
     "text": [
      "Max julian date: 2454541.558136\n"
     ]
    }
   ],
   "source": [
    "print(\"Max julian date:\",max(Data2['BJD']))"
   ]
  },
  {
   "cell_type": "markdown",
   "metadata": {},
   "source": [
    "Using the following online converter:\n",
    "https://www.onlineconversion.com/julian_date.htm\n",
    "\n",
    "The first Julian date, 2441855, is calender date June 21, 1973. The last Julian date, 2454541, is calender date March 15, 2008. Obersevations taken May 15th, 2021 would be 2458985 in Julian terms. This would extend past the last date collected by 13 years and about 2 months. "
   ]
  },
  {
   "cell_type": "markdown",
   "metadata": {},
   "source": [
    "May 16th, 2021 would be Julian Date 2359350. This will be used to calculate the new eclipse number."
   ]
  },
  {
   "cell_type": "code",
   "execution_count": 233,
   "metadata": {},
   "outputs": [
    {
     "name": "stdout",
     "output_type": "stream",
     "text": [
      "The new eclipse number is: -0.00044619444732816053\n"
     ]
    }
   ],
   "source": [
    "diff3 = np.mean(diff2)\n",
    "day = 2359350 - 2458985\n",
    "e = diff3 / day\n",
    "print(\"The new eclipse number is:\",e)"
   ]
  }
 ],
 "metadata": {
  "kernelspec": {
   "display_name": "Python 3.7 (py37)",
   "language": "python",
   "name": "py37"
  },
  "language_info": {
   "codemirror_mode": {
    "name": "ipython",
    "version": 3
   },
   "file_extension": ".py",
   "mimetype": "text/x-python",
   "name": "python",
   "nbconvert_exporter": "python",
   "pygments_lexer": "ipython3",
   "version": "3.7.4"
  }
 },
 "nbformat": 4,
 "nbformat_minor": 4
}
